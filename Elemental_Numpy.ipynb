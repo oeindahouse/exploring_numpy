{
  "nbformat": 4,
  "nbformat_minor": 0,
  "metadata": {
    "colab": {
      "provenance": [],
      "authorship_tag": "ABX9TyPCx7iY9ByMTZMU/UbLlmps",
      "include_colab_link": true
    },
    "kernelspec": {
      "name": "python3",
      "display_name": "Python 3"
    },
    "language_info": {
      "name": "python"
    }
  },
  "cells": [
    {
      "cell_type": "markdown",
      "metadata": {
        "id": "view-in-github",
        "colab_type": "text"
      },
      "source": [
        "<a href=\"https://colab.research.google.com/github/oeindahouse/exploring_numpy/blob/main/Elemental_Numpy.ipynb\" target=\"_parent\"><img src=\"https://colab.research.google.com/assets/colab-badge.svg\" alt=\"Open In Colab\"/></a>"
      ]
    },
    {
      "cell_type": "markdown",
      "source": [
        "#Elemental Numpy\n",
        "\n"
      ],
      "metadata": {
        "id": "OjldA8Hopf6F"
      }
    },
    {
      "cell_type": "markdown",
      "source": [
        "##Introduction\n",
        "Elemental Numpy is the exercise that will allow me practice for a technical test.\n",
        "Is a very simply exercise but approach a lot the functions that give the opportunity the solve a large list of exercises."
      ],
      "metadata": {
        "id": "90-vDhW-px5D"
      }
    },
    {
      "cell_type": "markdown",
      "source": [
        "##Exercises"
      ],
      "metadata": {
        "id": "r0bWBEpcuIgn"
      }
    },
    {
      "cell_type": "code",
      "execution_count": 1,
      "metadata": {
        "id": "GvLAYGNyUi-s"
      },
      "outputs": [],
      "source": [
        "import numpy as np"
      ]
    },
    {
      "cell_type": "markdown",
      "source": [
        "Numpy is for execellence, the best library for star the knowledge in data science.\n",
        "The best practice for work with numpy is doing with \"array\". An array is a list but optimize, is more faster than a list."
      ],
      "metadata": {
        "id": "SWq4gqJ-uW2r"
      }
    },
    {
      "cell_type": "code",
      "source": [
        "list=[1,5,12,14,28,46,70,6]\n",
        "list\n"
      ],
      "metadata": {
        "colab": {
          "base_uri": "https://localhost:8080/"
        },
        "id": "ha59qRKSuRW6",
        "outputId": "ff1d0d9c-1cfc-4043-abd0-e765cbeb21e5"
      },
      "execution_count": 4,
      "outputs": [
        {
          "output_type": "execute_result",
          "data": {
            "text/plain": [
              "[1, 5, 12, 14, 28, 46, 70, 6]"
            ]
          },
          "metadata": {},
          "execution_count": 4
        }
      ]
    },
    {
      "cell_type": "markdown",
      "source": [
        "The last paragraph is list, but for work in numpy, this have to transform in array. Then, the second things that we need to do, is create an array from a list."
      ],
      "metadata": {
        "id": "GogBFqHavbWq"
      }
    },
    {
      "cell_type": "code",
      "source": [
        "list_1 = np.array(list)\n",
        "list_1"
      ],
      "metadata": {
        "colab": {
          "base_uri": "https://localhost:8080/"
        },
        "id": "TYY0CQnxv6pM",
        "outputId": "bf9848c2-3d30-4759-dc13-8c7e72a4dd1e"
      },
      "execution_count": 5,
      "outputs": [
        {
          "output_type": "execute_result",
          "data": {
            "text/plain": [
              "array([ 1,  5, 12, 14, 28, 46, 70,  6])"
            ]
          },
          "metadata": {},
          "execution_count": 5
        }
      ]
    },
    {
      "cell_type": "markdown",
      "source": [
        "The last array had only one dimension, now, I need to create an array with 2 dimensions.\n",
        "First, I'll look the list with 2 dimensions, later, I'll transfer the multidimensional list on multidimensional array (2 dimensions)."
      ],
      "metadata": {
        "id": "eaaGvKdt0i9w"
      }
    },
    {
      "cell_type": "code",
      "source": [
        "list_2 = [[1,5],\n",
        "          [12,14],\n",
        "          [28,46],\n",
        "          [70,6]]\n",
        "list_2"
      ],
      "metadata": {
        "colab": {
          "base_uri": "https://localhost:8080/"
        },
        "id": "_4Ob2YAUwLO7",
        "outputId": "325f9a60-aad0-468d-c829-1a3fd4665afd"
      },
      "execution_count": 9,
      "outputs": [
        {
          "output_type": "execute_result",
          "data": {
            "text/plain": [
              "[[1, 5], [12, 14], [28, 46], [70, 6]]"
            ]
          },
          "metadata": {},
          "execution_count": 9
        }
      ]
    },
    {
      "cell_type": "code",
      "source": [
        "list_3 = np.array(list_2)\n",
        "list_3"
      ],
      "metadata": {
        "colab": {
          "base_uri": "https://localhost:8080/"
        },
        "id": "bFNiYPMt2rWH",
        "outputId": "0769bb3d-e8e6-49d4-99a1-4a934737d10c"
      },
      "execution_count": 10,
      "outputs": [
        {
          "output_type": "execute_result",
          "data": {
            "text/plain": [
              "array([[ 1,  5],\n",
              "       [12, 14],\n",
              "       [28, 46],\n",
              "       [70,  6]])"
            ]
          },
          "metadata": {},
          "execution_count": 10
        }
      ]
    },
    {
      "cell_type": "markdown",
      "source": [
        "If I have a lot the numbers like rows and columns, and I need to know what is the numbers of this, the best road for know this is with \"shape\" function."
      ],
      "metadata": {
        "id": "qHD5TEdw3QIj"
      }
    },
    {
      "cell_type": "code",
      "source": [
        "list_3.shape"
      ],
      "metadata": {
        "colab": {
          "base_uri": "https://localhost:8080/"
        },
        "id": "aKS7ogem2rL6",
        "outputId": "2fc1f9aa-4e4d-4cc2-e119-7b85960ee27a"
      },
      "execution_count": 11,
      "outputs": [
        {
          "output_type": "execute_result",
          "data": {
            "text/plain": [
              "(4, 2)"
            ]
          },
          "metadata": {},
          "execution_count": 11
        }
      ]
    },
    {
      "cell_type": "markdown",
      "source": [
        "\n",
        "\n",
        "*   For investigate the number of dimensions, the function is calle \"ndim\".\n",
        "*   For know what is the type of data from the multidimensional array? (dtype)\n",
        "*   With the size function, I can know the number of data on the multidimensional array. (size)\n",
        "\n",
        "\n"
      ],
      "metadata": {
        "id": "w23XnLPz4DCb"
      }
    },
    {
      "cell_type": "code",
      "source": [
        "list_3.ndim"
      ],
      "metadata": {
        "colab": {
          "base_uri": "https://localhost:8080/"
        },
        "id": "XH3k5QbR4O00",
        "outputId": "fffcc13f-5513-4cfc-a03f-5ae36eadd633"
      },
      "execution_count": 12,
      "outputs": [
        {
          "output_type": "execute_result",
          "data": {
            "text/plain": [
              "2"
            ]
          },
          "metadata": {},
          "execution_count": 12
        }
      ]
    },
    {
      "cell_type": "code",
      "source": [
        "list_3.dtype"
      ],
      "metadata": {
        "colab": {
          "base_uri": "https://localhost:8080/"
        },
        "id": "leEKMY-N43zJ",
        "outputId": "2d3cbc6f-063d-4f96-b489-b210cf1d0f44"
      },
      "execution_count": 14,
      "outputs": [
        {
          "output_type": "execute_result",
          "data": {
            "text/plain": [
              "dtype('int64')"
            ]
          },
          "metadata": {},
          "execution_count": 14
        }
      ]
    },
    {
      "cell_type": "code",
      "source": [
        "list_3.size"
      ],
      "metadata": {
        "colab": {
          "base_uri": "https://localhost:8080/"
        },
        "id": "4BqYNnnk5d7Z",
        "outputId": "1b257a42-7770-4260-c772-d63c7190f1d6"
      },
      "execution_count": 15,
      "outputs": [
        {
          "output_type": "execute_result",
          "data": {
            "text/plain": [
              "8"
            ]
          },
          "metadata": {},
          "execution_count": 15
        }
      ]
    },
    {
      "cell_type": "markdown",
      "source": [
        "Now, I'll generate 2 multidimensionals arrays:\n",
        "\n",
        "\n",
        "*   The first multi-array is with zeros, a matrix with the same shape that the previous exerise\n",
        "*   The other multi-array is only with ones, the same shape that the up\n",
        "\n"
      ],
      "metadata": {
        "id": "6XcZGwU_5O21"
      }
    },
    {
      "cell_type": "code",
      "source": [
        "np.zeros((4,2))\n"
      ],
      "metadata": {
        "colab": {
          "base_uri": "https://localhost:8080/"
        },
        "id": "cIQrDYCJ-BDw",
        "outputId": "1b65ae32-f6b5-411a-969b-2890ec2f391d"
      },
      "execution_count": 18,
      "outputs": [
        {
          "output_type": "execute_result",
          "data": {
            "text/plain": [
              "array([[0., 0.],\n",
              "       [0., 0.],\n",
              "       [0., 0.],\n",
              "       [0., 0.]])"
            ]
          },
          "metadata": {},
          "execution_count": 18
        }
      ]
    },
    {
      "cell_type": "code",
      "source": [
        "np.ones((4,2))"
      ],
      "metadata": {
        "colab": {
          "base_uri": "https://localhost:8080/"
        },
        "id": "yDkj_rBZ-Oj-",
        "outputId": "70110ef6-2632-47d7-c459-6c51c6a5909e"
      },
      "execution_count": 19,
      "outputs": [
        {
          "output_type": "execute_result",
          "data": {
            "text/plain": [
              "array([[1., 1.],\n",
              "       [1., 1.],\n",
              "       [1., 1.],\n",
              "       [1., 1.]])"
            ]
          },
          "metadata": {},
          "execution_count": 19
        }
      ]
    },
    {
      "cell_type": "markdown",
      "source": [
        "If I want to create an array only with the first 10 numbers, I'll do whis form. **Remember, python count since the 0.**"
      ],
      "metadata": {
        "id": "D83v-gdf-kGQ"
      }
    },
    {
      "cell_type": "code",
      "source": [
        "np.arange(10)"
      ],
      "metadata": {
        "colab": {
          "base_uri": "https://localhost:8080/"
        },
        "id": "ZxsJgntJ-Obc",
        "outputId": "9fd74e98-d7a4-407a-aeb7-2c6de2580a7c"
      },
      "execution_count": 20,
      "outputs": [
        {
          "output_type": "execute_result",
          "data": {
            "text/plain": [
              "array([0, 1, 2, 3, 4, 5, 6, 7, 8, 9])"
            ]
          },
          "metadata": {},
          "execution_count": 20
        }
      ]
    },
    {
      "cell_type": "markdown",
      "source": [
        "Now, I'll create a new multi-array but with 2 dimensions and the first 10 numbers. For this, I'll do with the reshape function, that allow me transform an single array in multidimensional array."
      ],
      "metadata": {
        "id": "ZcG6KjLY_QIB"
      }
    },
    {
      "cell_type": "code",
      "source": [
        "np.arange(10).reshape(2,5)\n"
      ],
      "metadata": {
        "colab": {
          "base_uri": "https://localhost:8080/"
        },
        "id": "31RKa8T6_Z_S",
        "outputId": "9f84ae4e-f2ae-40ff-8b69-4cd1ed413d24"
      },
      "execution_count": 21,
      "outputs": [
        {
          "output_type": "execute_result",
          "data": {
            "text/plain": [
              "array([[0, 1, 2, 3, 4],\n",
              "       [5, 6, 7, 8, 9]])"
            ]
          },
          "metadata": {},
          "execution_count": 21
        }
      ]
    },
    {
      "cell_type": "markdown",
      "source": [
        "The next multi-array will full with numbers between 20 to 40, counting 2 between every number and in a matrix of (2,5)."
      ],
      "metadata": {
        "id": "TwsLGuitFEF_"
      }
    },
    {
      "cell_type": "code",
      "source": [
        "np.arange(20,40,2).reshape(2,5)"
      ],
      "metadata": {
        "colab": {
          "base_uri": "https://localhost:8080/"
        },
        "id": "5wHsh9WYEeg8",
        "outputId": "26c221ae-dd11-4145-a426-880224ded242"
      },
      "execution_count": 38,
      "outputs": [
        {
          "output_type": "execute_result",
          "data": {
            "text/plain": [
              "array([[20, 22, 24, 26, 28],\n",
              "       [30, 32, 34, 36, 38]])"
            ]
          },
          "metadata": {},
          "execution_count": 38
        }
      ]
    },
    {
      "cell_type": "markdown",
      "source": [
        "For 2 previous exercises, the first part is for give to the numbers a range between our selection and the next part is for give format in my matrix."
      ],
      "metadata": {
        "id": "0NaVCJuUFwLD"
      }
    },
    {
      "cell_type": "markdown",
      "source": [
        "Now, I'll work with the linspace function, that allow me divide the selection range between the number that I'll specificate.\n",
        "\n",
        "---\n",
        "The next code is for give to the one directional array, a shape like matrix.\n",
        "\n",
        "\n",
        "---\n",
        "\n"
      ],
      "metadata": {
        "id": "gV-GWct_GP5o"
      }
    },
    {
      "cell_type": "code",
      "source": [
        "np.linspace(6,75,24)"
      ],
      "metadata": {
        "colab": {
          "base_uri": "https://localhost:8080/"
        },
        "id": "imCaFSyUGnqB",
        "outputId": "376a1de1-6ec5-412c-8188-5e71c5bef9b8"
      },
      "execution_count": 39,
      "outputs": [
        {
          "output_type": "execute_result",
          "data": {
            "text/plain": [
              "array([ 6.,  9., 12., 15., 18., 21., 24., 27., 30., 33., 36., 39., 42.,\n",
              "       45., 48., 51., 54., 57., 60., 63., 66., 69., 72., 75.])"
            ]
          },
          "metadata": {},
          "execution_count": 39
        }
      ]
    },
    {
      "cell_type": "code",
      "source": [
        "np.linspace(6,75,24).reshape(3,8)"
      ],
      "metadata": {
        "colab": {
          "base_uri": "https://localhost:8080/"
        },
        "id": "ShlNZaQwG1xv",
        "outputId": "ba560511-e26d-40b6-c854-26aab2bd4f7b"
      },
      "execution_count": 40,
      "outputs": [
        {
          "output_type": "execute_result",
          "data": {
            "text/plain": [
              "array([[ 6.,  9., 12., 15., 18., 21., 24., 27.],\n",
              "       [30., 33., 36., 39., 42., 45., 48., 51.],\n",
              "       [54., 57., 60., 63., 66., 69., 72., 75.]])"
            ]
          },
          "metadata": {},
          "execution_count": 40
        }
      ]
    },
    {
      "cell_type": "markdown",
      "source": [
        "Now, I'll do some basic operations for 2 array."
      ],
      "metadata": {
        "id": "XQ6Y4ZHXHkkM"
      }
    },
    {
      "cell_type": "code",
      "source": [
        "x = np.linspace(2,88,10)\n",
        "y = np.linspace(41,99,10)"
      ],
      "metadata": {
        "id": "SGKluLDULJ0U"
      },
      "execution_count": 41,
      "outputs": []
    },
    {
      "cell_type": "code",
      "source": [
        "x + y"
      ],
      "metadata": {
        "colab": {
          "base_uri": "https://localhost:8080/"
        },
        "id": "3GAquL3pLc8H",
        "outputId": "1573aeb8-dcfa-46a2-9e60-fa1701f9ec27"
      },
      "execution_count": 42,
      "outputs": [
        {
          "output_type": "execute_result",
          "data": {
            "text/plain": [
              "array([ 43.,  59.,  75.,  91., 107., 123., 139., 155., 171., 187.])"
            ]
          },
          "metadata": {},
          "execution_count": 42
        }
      ]
    },
    {
      "cell_type": "code",
      "source": [
        "d = x - y\n",
        "d"
      ],
      "metadata": {
        "colab": {
          "base_uri": "https://localhost:8080/"
        },
        "id": "5aDxyWofLhSl",
        "outputId": "33718cd2-85f5-4191-bfec-4f31bb5f345f"
      },
      "execution_count": 45,
      "outputs": [
        {
          "output_type": "execute_result",
          "data": {
            "text/plain": [
              "array([-39.        , -35.88888889, -32.77777778, -29.66666667,\n",
              "       -26.55555556, -23.44444444, -20.33333333, -17.22222222,\n",
              "       -14.11111111, -11.        ])"
            ]
          },
          "metadata": {},
          "execution_count": 45
        }
      ]
    },
    {
      "cell_type": "code",
      "source": [
        "np.linspace(41,99,10).reshape(2,5)"
      ],
      "metadata": {
        "colab": {
          "base_uri": "https://localhost:8080/"
        },
        "id": "Fs0UyfZWLv47",
        "outputId": "1082608f-b2b0-41c8-9908-fbcec762f043"
      },
      "execution_count": 48,
      "outputs": [
        {
          "output_type": "execute_result",
          "data": {
            "text/plain": [
              "array([[41.        , 47.44444444, 53.88888889, 60.33333333, 66.77777778],\n",
              "       [73.22222222, 79.66666667, 86.11111111, 92.55555556, 99.        ]])"
            ]
          },
          "metadata": {},
          "execution_count": 48
        }
      ]
    },
    {
      "cell_type": "code",
      "source": [
        "list_4 = np.concatenate((x,y))\n",
        "list_4"
      ],
      "metadata": {
        "colab": {
          "base_uri": "https://localhost:8080/"
        },
        "id": "soBL3fzSMWFE",
        "outputId": "928ec95e-50af-4bb8-fc22-282ff58138f8"
      },
      "execution_count": 65,
      "outputs": [
        {
          "output_type": "execute_result",
          "data": {
            "text/plain": [
              "array([ 2.        , 11.55555556, 21.11111111, 30.66666667, 40.22222222,\n",
              "       49.77777778, 59.33333333, 68.88888889, 78.44444444, 88.        ,\n",
              "       41.        , 47.44444444, 53.88888889, 60.33333333, 66.77777778,\n",
              "       73.22222222, 79.66666667, 86.11111111, 92.55555556, 99.        ])"
            ]
          },
          "metadata": {},
          "execution_count": 65
        }
      ]
    },
    {
      "cell_type": "code",
      "source": [
        "list_4.shape\n"
      ],
      "metadata": {
        "colab": {
          "base_uri": "https://localhost:8080/"
        },
        "id": "xScUFPKwPP_X",
        "outputId": "32c199f1-c35c-4f06-be4f-0968b63d47ee"
      },
      "execution_count": 66,
      "outputs": [
        {
          "output_type": "execute_result",
          "data": {
            "text/plain": [
              "(20,)"
            ]
          },
          "metadata": {},
          "execution_count": 66
        }
      ]
    },
    {
      "cell_type": "code",
      "source": [
        "list_5 = np.array(list_4)\n",
        "list_5"
      ],
      "metadata": {
        "colab": {
          "base_uri": "https://localhost:8080/"
        },
        "id": "k2wDiaKLMjdT",
        "outputId": "a26d553a-a9e4-4d31-c899-d56c93305232"
      },
      "execution_count": 61,
      "outputs": [
        {
          "output_type": "execute_result",
          "data": {
            "text/plain": [
              "array([ 2.        , 11.55555556, 21.11111111, 30.66666667, 40.22222222,\n",
              "       49.77777778, 59.33333333, 68.88888889, 78.44444444, 88.        ,\n",
              "       41.        , 47.44444444, 53.88888889, 60.33333333, 66.77777778,\n",
              "       73.22222222, 79.66666667, 86.11111111, 92.55555556, 99.        ])"
            ]
          },
          "metadata": {},
          "execution_count": 61
        }
      ]
    },
    {
      "cell_type": "markdown",
      "source": [
        "In this exercise, I'll use rg.random function for generate random numbers."
      ],
      "metadata": {
        "id": "FEnvcdDIT6Dd"
      }
    },
    {
      "cell_type": "code",
      "source": [
        "rgrdm = np.random.default_rng(2)\n",
        "frandom = rgrdm.random(100)\n",
        "frandom"
      ],
      "metadata": {
        "colab": {
          "base_uri": "https://localhost:8080/"
        },
        "id": "0pObmejFQD4K",
        "outputId": "3b7fae56-0130-4eae-865f-7dc47b38b458"
      },
      "execution_count": 71,
      "outputs": [
        {
          "output_type": "execute_result",
          "data": {
            "text/plain": [
              "array([0.26161213, 0.29849114, 0.81422574, 0.09191594, 0.60010053,\n",
              "       0.72856053, 0.18790107, 0.05514663, 0.27496937, 0.65743301,\n",
              "       0.56226566, 0.15006226, 0.43263079, 0.6692973 , 0.42278467,\n",
              "       0.6331844 , 0.96743595, 0.68306482, 0.39162483, 0.18725257,\n",
              "       0.34596067, 0.51106597, 0.89120941, 0.77556394, 0.3181466 ,\n",
              "       0.9242169 , 0.47090989, 0.69375884, 0.10720731, 0.10454356,\n",
              "       0.20190745, 0.88444967, 0.67981146, 0.84923632, 0.64443627,\n",
              "       0.4065424 , 0.51657819, 0.59344352, 0.86211798, 0.43818617,\n",
              "       0.89224011, 0.61371694, 0.82935613, 0.49805605, 0.69251813,\n",
              "       0.33902537, 0.5228285 , 0.21622339, 0.1007036 , 0.03860413,\n",
              "       0.70194948, 0.45643062, 0.89773415, 0.8351832 , 0.38509513,\n",
              "       0.97367877, 0.59206201, 0.76588331, 0.40719436, 0.19616991,\n",
              "       0.17177702, 0.18120623, 0.60380552, 0.11263286, 0.01991075,\n",
              "       0.83299696, 0.09941112, 0.45058454, 0.48849857, 0.62027241,\n",
              "       0.50401448, 0.93734314, 0.75039659, 0.5744665 , 0.61727214,\n",
              "       0.50655149, 0.96476181, 0.22662606, 0.68902714, 0.55509668,\n",
              "       0.04201179, 0.29615   , 0.92716694, 0.78456486, 0.01283109,\n",
              "       0.29662633, 0.00980535, 0.82746694, 0.11036759, 0.05745518,\n",
              "       0.98188334, 0.44586988, 0.318393  , 0.04901339, 0.38959528,\n",
              "       0.36603906, 0.52348079, 0.00678547, 0.14796288, 0.20988653])"
            ]
          },
          "metadata": {},
          "execution_count": 71
        }
      ]
    },
    {
      "cell_type": "markdown",
      "source": [
        "Only for practice other functions, I'll do a sort function."
      ],
      "metadata": {
        "id": "2U2x2unxYD4y"
      }
    },
    {
      "cell_type": "code",
      "source": [
        "frandom.sort()\n",
        "frandom"
      ],
      "metadata": {
        "colab": {
          "base_uri": "https://localhost:8080/"
        },
        "id": "UcnQff0zYSry",
        "outputId": "a5af96b6-7432-46ac-c296-6803023d8847"
      },
      "execution_count": 74,
      "outputs": [
        {
          "output_type": "execute_result",
          "data": {
            "text/plain": [
              "array([0.00678547, 0.00980535, 0.01283109, 0.01991075, 0.03860413,\n",
              "       0.04201179, 0.04901339, 0.05514663, 0.05745518, 0.09191594,\n",
              "       0.09941112, 0.1007036 , 0.10454356, 0.10720731, 0.11036759,\n",
              "       0.11263286, 0.14796288, 0.15006226, 0.17177702, 0.18120623,\n",
              "       0.18725257, 0.18790107, 0.19616991, 0.20190745, 0.20988653,\n",
              "       0.21622339, 0.22662606, 0.26161213, 0.27496937, 0.29615   ,\n",
              "       0.29662633, 0.29849114, 0.3181466 , 0.318393  , 0.33902537,\n",
              "       0.34596067, 0.36603906, 0.38509513, 0.38959528, 0.39162483,\n",
              "       0.4065424 , 0.40719436, 0.42278467, 0.43263079, 0.43818617,\n",
              "       0.44586988, 0.45058454, 0.45643062, 0.47090989, 0.48849857,\n",
              "       0.49805605, 0.50401448, 0.50655149, 0.51106597, 0.51657819,\n",
              "       0.5228285 , 0.52348079, 0.55509668, 0.56226566, 0.5744665 ,\n",
              "       0.59206201, 0.59344352, 0.60010053, 0.60380552, 0.61371694,\n",
              "       0.61727214, 0.62027241, 0.6331844 , 0.64443627, 0.65743301,\n",
              "       0.6692973 , 0.67981146, 0.68306482, 0.68902714, 0.69251813,\n",
              "       0.69375884, 0.70194948, 0.72856053, 0.75039659, 0.76588331,\n",
              "       0.77556394, 0.78456486, 0.81422574, 0.82746694, 0.82935613,\n",
              "       0.83299696, 0.8351832 , 0.84923632, 0.86211798, 0.88444967,\n",
              "       0.89120941, 0.89224011, 0.89773415, 0.9242169 , 0.92716694,\n",
              "       0.93734314, 0.96476181, 0.96743595, 0.97367877, 0.98188334])"
            ]
          },
          "metadata": {},
          "execution_count": 74
        }
      ]
    },
    {
      "cell_type": "markdown",
      "source": [
        "The next function give me a range the number -in this case 1000-, with of a median 10 and stan dev 5."
      ],
      "metadata": {
        "id": "V0_mYkDXZSm9"
      }
    },
    {
      "cell_type": "code",
      "source": [
        "clasicc = rgrdm.normal(10,5,100)\n",
        "clasicc"
      ],
      "metadata": {
        "colab": {
          "base_uri": "https://localhost:8080/"
        },
        "id": "y5032A6uZvsD",
        "outputId": "86a13360-c765-41bd-c8e9-68f2ec910e5c"
      },
      "execution_count": 78,
      "outputs": [
        {
          "output_type": "execute_result",
          "data": {
            "text/plain": [
              "array([ 8.18365894,  2.8062979 , 14.75392026, 17.042468  ,  7.61495182,\n",
              "       12.5333201 ,  7.75921859,  2.61547532,  7.57061569,  1.88706127,\n",
              "        6.95378853, 10.85132538, 13.42312378, 16.26667814,  8.1196993 ,\n",
              "       10.96139981, 11.88637689, 12.55627198, -4.4813667 ,  5.87975299,\n",
              "       13.74853247,  4.16522898, 10.99736213, 13.92560927,  0.2692192 ,\n",
              "        8.79542382, 10.93114403,  9.79592676,  2.08675602, 11.46749039,\n",
              "        6.92387288, 13.83799622, 11.87139104,  6.9640731 , 10.58702132,\n",
              "        6.24813438,  6.19245817,  1.78670569,  8.48540774, 13.6923703 ,\n",
              "       10.22601779,  9.52939835,  6.47160879,  6.98137946, 13.31309702,\n",
              "        2.11233055, 19.88984085,  9.24724889, 20.4218071 , 15.42421553,\n",
              "        7.45072364, 13.20378465, 10.80449735, 11.82283901, 13.4712851 ,\n",
              "        6.75446494,  6.38958451,  7.3803051 ,  2.62908363,  8.14413075,\n",
              "       10.5963809 , 10.69277442, 10.39933132,  7.44831972, 13.35612704,\n",
              "       -0.85064531,  7.41055839,  7.74117511, 13.85620022, 12.68575082,\n",
              "       13.35604142,  9.4125939 , 14.07463246,  4.29884746,  9.65957266,\n",
              "       -1.27219253, 17.84691895, 17.23106822,  6.2723942 ,  5.01628101,\n",
              "       -1.23722015,  1.59040918,  9.85648117,  8.45958455,  1.86819224,\n",
              "        6.74752786,  5.92253867, 11.59653845, 12.80163226,  8.15795801,\n",
              "        9.83406818,  9.23431734, -1.18358075, 10.16180067,  8.94354622,\n",
              "       13.02039455,  0.08972013, 13.09567714,  6.08124224, 10.6123856 ])"
            ]
          },
          "metadata": {},
          "execution_count": 78
        }
      ]
    },
    {
      "cell_type": "markdown",
      "source": [
        "Only for look the distribution, I'll import the matplotlib library"
      ],
      "metadata": {
        "id": "bWPPq6-jaTMm"
      }
    },
    {
      "cell_type": "code",
      "source": [
        "import matplotlib.pyplot as plt\n",
        "plt.hist(clasicc, bins =8)\n",
        "plt.show()"
      ],
      "metadata": {
        "colab": {
          "base_uri": "https://localhost:8080/",
          "height": 430
        },
        "id": "a2nGd9VUacVI",
        "outputId": "f0373fb0-1283-41f6-b321-15cc87a5f2db"
      },
      "execution_count": 85,
      "outputs": [
        {
          "output_type": "display_data",
          "data": {
            "text/plain": [
              "<Figure size 640x480 with 1 Axes>"
            ],
            "image/png": "[encoded data removed]"
          },
          "metadata": {}
        }
      ]
    },
    {
      "cell_type": "markdown",
      "source": [
        "For generate a lot the numbers (100) since 0 to 20, is with this function"
      ],
      "metadata": {
        "id": "P6o4nTNybRR3"
      }
    },
    {
      "cell_type": "code",
      "source": [
        "complete = rgrdm.integers(20, size=100)\n",
        "complete"
      ],
      "metadata": {
        "colab": {
          "base_uri": "https://localhost:8080/"
        },
        "id": "U-Bb8c6Fbigs",
        "outputId": "562b14ee-66b4-4d63-d39b-9dacf975d431"
      },
      "execution_count": 97,
      "outputs": [
        {
          "output_type": "execute_result",
          "data": {
            "text/plain": [
              "array([15, 10, 10,  7, 13, 13, 18,  3, 12, 13,  0, 11,  1, 16,  7,  5,  8,\n",
              "       17, 12,  7,  8,  3,  8, 17,  1, 12, 16, 10, 10, 17, 18,  7, 18, 18,\n",
              "       19,  8, 12, 12,  1,  3,  8,  6, 10,  5,  4,  5,  0,  8, 14,  2, 15,\n",
              "       11,  3,  7,  0, 16, 14, 19, 13,  2,  2, 17,  3, 16,  4,  3, 12,  4,\n",
              "       17, 18, 16, 14,  3, 14,  6,  2, 10, 14, 12, 10,  4, 12,  6,  3, 12,\n",
              "       11, 12, 12, 14, 11, 10,  2,  0,  5,  4,  4, 10,  4,  6,  3])"
            ]
          },
          "metadata": {},
          "execution_count": 97
        }
      ]
    },
    {
      "cell_type": "code",
      "source": [
        "import matplotlib.pyplot as plt\n",
        "plt.hist(complete, bins =10)\n",
        "plt.show()"
      ],
      "metadata": {
        "colab": {
          "base_uri": "https://localhost:8080/",
          "height": 430
        },
        "id": "u7xsU1UMbzqC",
        "outputId": "c6001416-0422-49d1-b90c-d261e123d9f4"
      },
      "execution_count": 99,
      "outputs": [
        {
          "output_type": "display_data",
          "data": {
            "text/plain": [
              "<Figure size 640x480 with 1 Axes>"
            ],
            "image/png": "[encoded data removed]"
          },
          "metadata": {}
        }
      ]
    },
    {
      "cell_type": "markdown",
      "source": [
        "I'll need some numbers but they cannot repeat in the range of the 45 first numbers."
      ],
      "metadata": {
        "id": "VZOAvt-QcCx9"
      }
    },
    {
      "cell_type": "code",
      "source": [
        "rgrdm.choice(45, size = 12 , replace = False )"
      ],
      "metadata": {
        "colab": {
          "base_uri": "https://localhost:8080/"
        },
        "id": "t84HRoyhcaiB",
        "outputId": "8ab5fd0e-b3a4-42c8-9a19-c9cdff5e7601"
      },
      "execution_count": 96,
      "outputs": [
        {
          "output_type": "execute_result",
          "data": {
            "text/plain": [
              "array([ 0, 27, 28, 13,  3, 30, 22, 11, 21, 42, 35, 10])"
            ]
          },
          "metadata": {},
          "execution_count": 96
        }
      ]
    },
    {
      "cell_type": "code",
      "source": [
        "complete.min()"
      ],
      "metadata": {
        "colab": {
          "base_uri": "https://localhost:8080/"
        },
        "id": "gqlApUo0hJXP",
        "outputId": "4ee22f53-c03a-41e4-f247-8c893807fb5d"
      },
      "execution_count": 100,
      "outputs": [
        {
          "output_type": "execute_result",
          "data": {
            "text/plain": [
              "0"
            ]
          },
          "metadata": {},
          "execution_count": 100
        }
      ]
    },
    {
      "cell_type": "code",
      "source": [
        "complete.max()"
      ],
      "metadata": {
        "colab": {
          "base_uri": "https://localhost:8080/"
        },
        "id": "FVUYJHbPhL_z",
        "outputId": "54e83fd5-54fc-4f04-ee60-10522f2bf6fe"
      },
      "execution_count": 101,
      "outputs": [
        {
          "output_type": "execute_result",
          "data": {
            "text/plain": [
              "19"
            ]
          },
          "metadata": {},
          "execution_count": 101
        }
      ]
    },
    {
      "cell_type": "code",
      "source": [
        "complete.mean()"
      ],
      "metadata": {
        "colab": {
          "base_uri": "https://localhost:8080/"
        },
        "id": "ZA_WBMmMhN2i",
        "outputId": "8d518f5b-f87d-4e61-b5b6-6f7285347e37"
      },
      "execution_count": 104,
      "outputs": [
        {
          "output_type": "execute_result",
          "data": {
            "text/plain": [
              "9.2"
            ]
          },
          "metadata": {},
          "execution_count": 104
        }
      ]
    },
    {
      "cell_type": "code",
      "source": [
        "complete.std()"
      ],
      "metadata": {
        "colab": {
          "base_uri": "https://localhost:8080/"
        },
        "id": "PCsmBeMJhWTU",
        "outputId": "4e191e75-87e9-49de-b313-c2e822e0c67c"
      },
      "execution_count": 105,
      "outputs": [
        {
          "output_type": "execute_result",
          "data": {
            "text/plain": [
              "5.442425929675111"
            ]
          },
          "metadata": {},
          "execution_count": 105
        }
      ]
    },
    {
      "cell_type": "code",
      "source": [
        "complete.sum()"
      ],
      "metadata": {
        "colab": {
          "base_uri": "https://localhost:8080/"
        },
        "id": "liuCxgFDhYhA",
        "outputId": "de7932d8-b1ae-4570-9ace-329b8b3f7bf0"
      },
      "execution_count": 106,
      "outputs": [
        {
          "output_type": "execute_result",
          "data": {
            "text/plain": [
              "920"
            ]
          },
          "metadata": {},
          "execution_count": 106
        }
      ]
    },
    {
      "cell_type": "markdown",
      "source": [
        "The previous exercise were a dimensional array, now I'll select some functions in a multidimensional array. But, with integers numbers and they can repeat."
      ],
      "metadata": {
        "id": "mDyJjBRphoAO"
      }
    },
    {
      "cell_type": "code",
      "source": [
        "incomplete = rgrdm.integers(10, size=(3,6))\n",
        "incomplete"
      ],
      "metadata": {
        "colab": {
          "base_uri": "https://localhost:8080/"
        },
        "id": "Aj3zdTHMhoXE",
        "outputId": "c3f1f932-66a9-4a15-f37e-9c85ac873e55"
      },
      "execution_count": 116,
      "outputs": [
        {
          "output_type": "execute_result",
          "data": {
            "text/plain": [
              "array([[7, 1, 0, 9, 1, 0],\n",
              "       [9, 7, 1, 7, 2, 0],\n",
              "       [4, 1, 8, 6, 4, 2]])"
            ]
          },
          "metadata": {},
          "execution_count": 116
        }
      ]
    },
    {
      "cell_type": "markdown",
      "source": [
        "Now, in this matrix, the numbers don't repeat"
      ],
      "metadata": {
        "id": "-6LIiip0jmyr"
      }
    },
    {
      "cell_type": "code",
      "source": [
        "norep = rgrdm.choice(45, size = (4,6) , replace = False )\n",
        "norep"
      ],
      "metadata": {
        "colab": {
          "base_uri": "https://localhost:8080/"
        },
        "id": "zzP6kNMPiXeR",
        "outputId": "2b831099-da4d-4d67-dc38-da1dd4a887b5"
      },
      "execution_count": 125,
      "outputs": [
        {
          "output_type": "execute_result",
          "data": {
            "text/plain": [
              "array([[ 1,  0, 35, 22, 11, 25],\n",
              "       [36, 14,  2, 30,  4, 19],\n",
              "       [15, 29,  8, 28, 44, 24],\n",
              "       [16, 37, 26, 17, 38, 13]])"
            ]
          },
          "metadata": {},
          "execution_count": 125
        }
      ]
    },
    {
      "cell_type": "markdown",
      "source": [
        "Every matrix have a different numbers, in this case, I need to know what is the minor number in every row and column, but this must be doing per separate.\n",
        "\n",
        "\n",
        "*   axis=0, is columns\n",
        "*   axis=1, is rows\n",
        "\n"
      ],
      "metadata": {
        "id": "ZUyn__5ui6pf"
      }
    },
    {
      "cell_type": "code",
      "source": [
        "norep.min(axis=0)"
      ],
      "metadata": {
        "colab": {
          "base_uri": "https://localhost:8080/"
        },
        "id": "d4KCcoDEkUZe",
        "outputId": "ed143cbd-b53b-471e-c61a-7c43b7f0d7f7"
      },
      "execution_count": 126,
      "outputs": [
        {
          "output_type": "execute_result",
          "data": {
            "text/plain": [
              "array([ 1,  0,  2, 17,  4, 13])"
            ]
          },
          "metadata": {},
          "execution_count": 126
        }
      ]
    },
    {
      "cell_type": "code",
      "source": [
        "norep.max(axis=1)"
      ],
      "metadata": {
        "colab": {
          "base_uri": "https://localhost:8080/"
        },
        "id": "QTna-bNkkanE",
        "outputId": "a48cda2a-c5b5-4ae9-838e-d773c7acefa8"
      },
      "execution_count": 128,
      "outputs": [
        {
          "output_type": "execute_result",
          "data": {
            "text/plain": [
              "array([35, 36, 44, 38])"
            ]
          },
          "metadata": {},
          "execution_count": 128
        }
      ]
    },
    {
      "cell_type": "markdown",
      "source": [
        "The last exercises will be of select of any numbers in a single dimensional and multidimensional array"
      ],
      "metadata": {
        "id": "MuGjACMvmgRX"
      }
    },
    {
      "cell_type": "code",
      "source": [
        "bignum = rgrdm.integers(20,size=(20))\n",
        "bignum\n",
        "# in this exercise, \"20\" represent the first 20s numbers starting in 0 to 19,\n",
        "#\"10\" represent the quantity of this numbers for the array"
      ],
      "metadata": {
        "colab": {
          "base_uri": "https://localhost:8080/"
        },
        "id": "I6pEBSXanHLp",
        "outputId": "3841b0ea-6711-4234-df09-646756f8adb6"
      },
      "execution_count": 130,
      "outputs": [
        {
          "output_type": "execute_result",
          "data": {
            "text/plain": [
              "array([ 9, 12,  2, 11,  2, 16, 18, 19,  6, 12,  6, 17, 11,  7, 16, 10, 11,\n",
              "       17, 12,  4])"
            ]
          },
          "metadata": {},
          "execution_count": 130
        }
      ]
    },
    {
      "cell_type": "markdown",
      "source": [
        "Select the first 12s numbers"
      ],
      "metadata": {
        "id": "6X7bcU_yoBFX"
      }
    },
    {
      "cell_type": "code",
      "source": [
        "bignum[0:12]"
      ],
      "metadata": {
        "colab": {
          "base_uri": "https://localhost:8080/"
        },
        "id": "3eGjJxnBoER8",
        "outputId": "2eedbec9-e795-4f48-ff3a-1afe17cfdb33"
      },
      "execution_count": 132,
      "outputs": [
        {
          "output_type": "execute_result",
          "data": {
            "text/plain": [
              "array([ 9, 12,  2, 11,  2, 16, 18, 19,  6, 12,  6, 17])"
            ]
          },
          "metadata": {},
          "execution_count": 132
        }
      ]
    },
    {
      "cell_type": "code",
      "source": [
        "bignum_d2 = rgrdm.integers(20,size=(3,6))\n",
        "bignum_d2"
      ],
      "metadata": {
        "colab": {
          "base_uri": "https://localhost:8080/"
        },
        "id": "1JLR5_ZIpUPw",
        "outputId": "e98886fe-51b6-437c-ccea-b92e2b673e1f"
      },
      "execution_count": 135,
      "outputs": [
        {
          "output_type": "execute_result",
          "data": {
            "text/plain": [
              "array([[16,  0,  0,  1, 16,  6],\n",
              "       [ 5, 15,  7,  8,  8, 15],\n",
              "       [17, 15,  7,  0, 16, 14]])"
            ]
          },
          "metadata": {},
          "execution_count": 135
        }
      ]
    },
    {
      "cell_type": "markdown",
      "source": [
        "Select the numbers in the array that is 4th number in the 2nd array"
      ],
      "metadata": {
        "id": "Py1af79Eplpb"
      }
    },
    {
      "cell_type": "code",
      "source": [
        "bignum_d2[1,3]"
      ],
      "metadata": {
        "colab": {
          "base_uri": "https://localhost:8080/"
        },
        "id": "j3YOqwacpeL2",
        "outputId": "531059d0-5d16-47a9-ff92-649054a23767"
      },
      "execution_count": 139,
      "outputs": [
        {
          "output_type": "execute_result",
          "data": {
            "text/plain": [
              "8"
            ]
          },
          "metadata": {},
          "execution_count": 139
        }
      ]
    },
    {
      "cell_type": "markdown",
      "source": [
        "What is the first 2 value in the arrays 4,5,6 for the bignum_d2?"
      ],
      "metadata": {
        "id": "xr5VPbxTqUEK"
      }
    },
    {
      "cell_type": "code",
      "source": [
        "bignum_d2[0:2,0:2]"
      ],
      "metadata": {
        "colab": {
          "base_uri": "https://localhost:8080/"
        },
        "id": "aCR-u77UqiFh",
        "outputId": "5a94ce42-3a96-4698-d8fc-0d46042db924"
      },
      "execution_count": 140,
      "outputs": [
        {
          "output_type": "execute_result",
          "data": {
            "text/plain": [
              "array([[16,  0],\n",
              "       [ 5, 15]])"
            ]
          },
          "metadata": {},
          "execution_count": 140
        }
      ]
    },
    {
      "cell_type": "markdown",
      "source": [
        "This exercise was made with the video tutorial make for A2 Ciencia de Datos."
      ],
      "metadata": {
        "id": "G6RsNGzNrYED"
      }
    }
  ]
}